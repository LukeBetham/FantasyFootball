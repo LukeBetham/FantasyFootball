{
 "cells": [
  {
   "cell_type": "code",
   "execution_count": 83,
   "metadata": {
    "ExecuteTime": {
     "end_time": "2020-08-23T14:26:04.965308Z",
     "start_time": "2020-08-23T14:26:04.960832Z"
    }
   },
   "outputs": [],
   "source": [
    "import pandas as pd\n",
    "pd.set_option('display.max_rows', 500)\n",
    "pd.set_option('display.max_columns', 500)\n",
    "pd.set_option('display.width', 1000)"
   ]
  },
  {
   "cell_type": "code",
   "execution_count": 94,
   "metadata": {
    "ExecuteTime": {
     "end_time": "2020-08-23T14:27:04.881587Z",
     "start_time": "2020-08-23T14:27:04.867738Z"
    }
   },
   "outputs": [],
   "source": [
    "df_all = pd.read_csv(\"players_raw.csv\")"
   ]
  },
  {
   "cell_type": "code",
   "execution_count": 95,
   "metadata": {
    "ExecuteTime": {
     "end_time": "2020-08-23T14:27:06.141722Z",
     "start_time": "2020-08-23T14:27:06.019032Z"
    }
   },
   "outputs": [
    {
     "data": {
      "image/png": "[encoded data removed]",
      "text/plain": [
       "<Figure size 432x288 with 1 Axes>"
      ]
     },
     "metadata": {
      "needs_background": "light"
     },
     "output_type": "display_data"
    }
   ],
   "source": [
    "df_all.total_points.hist();"
   ]
  },
  {
   "cell_type": "code",
   "execution_count": 96,
   "metadata": {
    "ExecuteTime": {
     "end_time": "2020-08-23T14:27:07.409821Z",
     "start_time": "2020-08-23T14:27:07.401267Z"
    }
   },
   "outputs": [],
   "source": [
    "df_all['price_ratio'] = df_all.total_points/df_all.now_cost\n",
    "df_all.sort_values(\"price_ratio\",ascending=False,inplace=True)"
   ]
  },
  {
   "cell_type": "code",
   "execution_count": 97,
   "metadata": {
    "ExecuteTime": {
     "end_time": "2020-08-23T14:27:08.607594Z",
     "start_time": "2020-08-23T14:27:08.599203Z"
    }
   },
   "outputs": [],
   "source": [
    "gk = df_all[df_all['element_type']==1]\n",
    "df = df_all[df_all['element_type']==2]\n",
    "mid = df_all[df_all['element_type']==3]\n",
    "fd = df_all[df_all['element_type']==4]"
   ]
  },
  {
   "cell_type": "code",
   "execution_count": 98,
   "metadata": {
    "ExecuteTime": {
     "end_time": "2020-08-23T14:27:09.712718Z",
     "start_time": "2020-08-23T14:27:09.703100Z"
    }
   },
   "outputs": [
    {
     "data": {
      "text/html": [
       "<div>\n",
       "<style scoped>\n",
       "    .dataframe tbody tr th:only-of-type {\n",
       "        vertical-align: middle;\n",
       "    }\n",
       "\n",
       "    .dataframe tbody tr th {\n",
       "        vertical-align: top;\n",
       "    }\n",
       "\n",
       "    .dataframe thead th {\n",
       "        text-align: right;\n",
       "    }\n",
       "</style>\n",
       "<table border=\"1\" class=\"dataframe\">\n",
       "  <thead>\n",
       "    <tr style=\"text-align: right;\">\n",
       "      <th></th>\n",
       "      <th>web_name</th>\n",
       "      <th>price_ratio</th>\n",
       "      <th>total_points</th>\n",
       "      <th>now_cost</th>\n",
       "    </tr>\n",
       "  </thead>\n",
       "  <tbody>\n",
       "    <tr>\n",
       "      <th>96</th>\n",
       "      <td>Pope</td>\n",
       "      <td>3.090909</td>\n",
       "      <td>170</td>\n",
       "      <td>55</td>\n",
       "    </tr>\n",
       "    <tr>\n",
       "      <th>70</th>\n",
       "      <td>Ryan</td>\n",
       "      <td>3.000000</td>\n",
       "      <td>135</td>\n",
       "      <td>45</td>\n",
       "    </tr>\n",
       "    <tr>\n",
       "      <th>305</th>\n",
       "      <td>Henderson</td>\n",
       "      <td>2.909091</td>\n",
       "      <td>160</td>\n",
       "      <td>55</td>\n",
       "    </tr>\n",
       "    <tr>\n",
       "      <th>326</th>\n",
       "      <td>Dubravka</td>\n",
       "      <td>2.860000</td>\n",
       "      <td>143</td>\n",
       "      <td>50</td>\n",
       "    </tr>\n",
       "    <tr>\n",
       "      <th>194</th>\n",
       "      <td>Schmeichel</td>\n",
       "      <td>2.836364</td>\n",
       "      <td>156</td>\n",
       "      <td>55</td>\n",
       "    </tr>\n",
       "    <tr>\n",
       "      <th>461</th>\n",
       "      <td>Patrício</td>\n",
       "      <td>2.781818</td>\n",
       "      <td>153</td>\n",
       "      <td>55</td>\n",
       "    </tr>\n",
       "    <tr>\n",
       "      <th>128</th>\n",
       "      <td>Guaita</td>\n",
       "      <td>2.740000</td>\n",
       "      <td>137</td>\n",
       "      <td>50</td>\n",
       "    </tr>\n",
       "    <tr>\n",
       "      <th>291</th>\n",
       "      <td>de Gea</td>\n",
       "      <td>2.600000</td>\n",
       "      <td>143</td>\n",
       "      <td>55</td>\n",
       "    </tr>\n",
       "    <tr>\n",
       "      <th>363</th>\n",
       "      <td>Ramsdale</td>\n",
       "      <td>2.520000</td>\n",
       "      <td>126</td>\n",
       "      <td>50</td>\n",
       "    </tr>\n",
       "    <tr>\n",
       "      <th>157</th>\n",
       "      <td>Pickford</td>\n",
       "      <td>2.340000</td>\n",
       "      <td>117</td>\n",
       "      <td>50</td>\n",
       "    </tr>\n",
       "  </tbody>\n",
       "</table>\n",
       "</div>"
      ],
      "text/plain": [
       "       web_name  price_ratio  total_points  now_cost\n",
       "96         Pope     3.090909           170        55\n",
       "70         Ryan     3.000000           135        45\n",
       "305   Henderson     2.909091           160        55\n",
       "326    Dubravka     2.860000           143        50\n",
       "194  Schmeichel     2.836364           156        55\n",
       "461    Patrício     2.781818           153        55\n",
       "128      Guaita     2.740000           137        50\n",
       "291      de Gea     2.600000           143        55\n",
       "363    Ramsdale     2.520000           126        50\n",
       "157    Pickford     2.340000           117        50"
      ]
     },
     "execution_count": 98,
     "metadata": {},
     "output_type": "execute_result"
    }
   ],
   "source": [
    "gk[['web_name','price_ratio','total_points','now_cost']].head(10)"
   ]
  },
  {
   "cell_type": "code",
   "execution_count": 99,
   "metadata": {
    "ExecuteTime": {
     "end_time": "2020-08-23T14:27:10.802126Z",
     "start_time": "2020-08-23T14:27:10.790532Z"
    }
   },
   "outputs": [
    {
     "data": {
      "text/html": [
       "<div>\n",
       "<style scoped>\n",
       "    .dataframe tbody tr th:only-of-type {\n",
       "        vertical-align: middle;\n",
       "    }\n",
       "\n",
       "    .dataframe tbody tr th {\n",
       "        vertical-align: top;\n",
       "    }\n",
       "\n",
       "    .dataframe thead th {\n",
       "        text-align: right;\n",
       "    }\n",
       "</style>\n",
       "<table border=\"1\" class=\"dataframe\">\n",
       "  <thead>\n",
       "    <tr style=\"text-align: right;\">\n",
       "      <th></th>\n",
       "      <th>web_name</th>\n",
       "      <th>price_ratio</th>\n",
       "      <th>total_points</th>\n",
       "      <th>now_cost</th>\n",
       "    </tr>\n",
       "  </thead>\n",
       "  <tbody>\n",
       "    <tr>\n",
       "      <th>259</th>\n",
       "      <td>Alexander-Arnold</td>\n",
       "      <td>2.800000</td>\n",
       "      <td>210</td>\n",
       "      <td>75</td>\n",
       "    </tr>\n",
       "    <tr>\n",
       "      <th>463</th>\n",
       "      <td>Doherty</td>\n",
       "      <td>2.783333</td>\n",
       "      <td>167</td>\n",
       "      <td>60</td>\n",
       "    </tr>\n",
       "    <tr>\n",
       "      <th>250</th>\n",
       "      <td>van Dijk</td>\n",
       "      <td>2.738462</td>\n",
       "      <td>178</td>\n",
       "      <td>65</td>\n",
       "    </tr>\n",
       "    <tr>\n",
       "      <th>354</th>\n",
       "      <td>Egan</td>\n",
       "      <td>2.660000</td>\n",
       "      <td>133</td>\n",
       "      <td>50</td>\n",
       "    </tr>\n",
       "    <tr>\n",
       "      <th>81</th>\n",
       "      <td>Tarkowski</td>\n",
       "      <td>2.600000</td>\n",
       "      <td>143</td>\n",
       "      <td>55</td>\n",
       "    </tr>\n",
       "    <tr>\n",
       "      <th>255</th>\n",
       "      <td>Robertson</td>\n",
       "      <td>2.585714</td>\n",
       "      <td>181</td>\n",
       "      <td>70</td>\n",
       "    </tr>\n",
       "    <tr>\n",
       "      <th>352</th>\n",
       "      <td>Baldock</td>\n",
       "      <td>2.581818</td>\n",
       "      <td>142</td>\n",
       "      <td>55</td>\n",
       "    </tr>\n",
       "    <tr>\n",
       "      <th>348</th>\n",
       "      <td>Stevens</td>\n",
       "      <td>2.581818</td>\n",
       "      <td>142</td>\n",
       "      <td>55</td>\n",
       "    </tr>\n",
       "    <tr>\n",
       "      <th>62</th>\n",
       "      <td>Dunk</td>\n",
       "      <td>2.560000</td>\n",
       "      <td>128</td>\n",
       "      <td>50</td>\n",
       "    </tr>\n",
       "    <tr>\n",
       "      <th>346</th>\n",
       "      <td>Basham</td>\n",
       "      <td>2.460000</td>\n",
       "      <td>123</td>\n",
       "      <td>50</td>\n",
       "    </tr>\n",
       "  </tbody>\n",
       "</table>\n",
       "</div>"
      ],
      "text/plain": [
       "             web_name  price_ratio  total_points  now_cost\n",
       "259  Alexander-Arnold     2.800000           210        75\n",
       "463           Doherty     2.783333           167        60\n",
       "250          van Dijk     2.738462           178        65\n",
       "354              Egan     2.660000           133        50\n",
       "81          Tarkowski     2.600000           143        55\n",
       "255         Robertson     2.585714           181        70\n",
       "352           Baldock     2.581818           142        55\n",
       "348           Stevens     2.581818           142        55\n",
       "62               Dunk     2.560000           128        50\n",
       "346            Basham     2.460000           123        50"
      ]
     },
     "execution_count": 99,
     "metadata": {},
     "output_type": "execute_result"
    }
   ],
   "source": [
    "df[['web_name','price_ratio','total_points','now_cost']].head(10)"
   ]
  },
  {
   "cell_type": "code",
   "execution_count": 100,
   "metadata": {
    "ExecuteTime": {
     "end_time": "2020-08-23T14:27:11.937565Z",
     "start_time": "2020-08-23T14:27:11.924502Z"
    }
   },
   "outputs": [
    {
     "data": {
      "text/html": [
       "<div>\n",
       "<style scoped>\n",
       "    .dataframe tbody tr th:only-of-type {\n",
       "        vertical-align: middle;\n",
       "    }\n",
       "\n",
       "    .dataframe tbody tr th {\n",
       "        vertical-align: top;\n",
       "    }\n",
       "\n",
       "    .dataframe thead th {\n",
       "        text-align: right;\n",
       "    }\n",
       "</style>\n",
       "<table border=\"1\" class=\"dataframe\">\n",
       "  <thead>\n",
       "    <tr style=\"text-align: right;\">\n",
       "      <th></th>\n",
       "      <th>web_name</th>\n",
       "      <th>price_ratio</th>\n",
       "      <th>total_points</th>\n",
       "      <th>now_cost</th>\n",
       "    </tr>\n",
       "  </thead>\n",
       "  <tbody>\n",
       "    <tr>\n",
       "      <th>356</th>\n",
       "      <td>Lundstram</td>\n",
       "      <td>2.618182</td>\n",
       "      <td>144</td>\n",
       "      <td>55</td>\n",
       "    </tr>\n",
       "    <tr>\n",
       "      <th>272</th>\n",
       "      <td>De Bruyne</td>\n",
       "      <td>2.182609</td>\n",
       "      <td>251</td>\n",
       "      <td>115</td>\n",
       "    </tr>\n",
       "    <tr>\n",
       "      <th>89</th>\n",
       "      <td>Westwood</td>\n",
       "      <td>2.145455</td>\n",
       "      <td>118</td>\n",
       "      <td>55</td>\n",
       "    </tr>\n",
       "    <tr>\n",
       "      <th>37</th>\n",
       "      <td>Grealish</td>\n",
       "      <td>2.128571</td>\n",
       "      <td>149</td>\n",
       "      <td>70</td>\n",
       "    </tr>\n",
       "    <tr>\n",
       "      <th>244</th>\n",
       "      <td>Henderson</td>\n",
       "      <td>2.109091</td>\n",
       "      <td>116</td>\n",
       "      <td>55</td>\n",
       "    </tr>\n",
       "    <tr>\n",
       "      <th>27</th>\n",
       "      <td>Willian</td>\n",
       "      <td>2.100000</td>\n",
       "      <td>168</td>\n",
       "      <td>80</td>\n",
       "    </tr>\n",
       "    <tr>\n",
       "      <th>454</th>\n",
       "      <td>Rice</td>\n",
       "      <td>2.100000</td>\n",
       "      <td>105</td>\n",
       "      <td>50</td>\n",
       "    </tr>\n",
       "    <tr>\n",
       "      <th>433</th>\n",
       "      <td>Noble</td>\n",
       "      <td>2.100000</td>\n",
       "      <td>105</td>\n",
       "      <td>50</td>\n",
       "    </tr>\n",
       "    <tr>\n",
       "      <th>275</th>\n",
       "      <td>Mahrez</td>\n",
       "      <td>2.058824</td>\n",
       "      <td>175</td>\n",
       "      <td>85</td>\n",
       "    </tr>\n",
       "    <tr>\n",
       "      <th>460</th>\n",
       "      <td>Moutinho</td>\n",
       "      <td>2.054545</td>\n",
       "      <td>113</td>\n",
       "      <td>55</td>\n",
       "    </tr>\n",
       "  </tbody>\n",
       "</table>\n",
       "</div>"
      ],
      "text/plain": [
       "      web_name  price_ratio  total_points  now_cost\n",
       "356  Lundstram     2.618182           144        55\n",
       "272  De Bruyne     2.182609           251       115\n",
       "89    Westwood     2.145455           118        55\n",
       "37    Grealish     2.128571           149        70\n",
       "244  Henderson     2.109091           116        55\n",
       "27     Willian     2.100000           168        80\n",
       "454       Rice     2.100000           105        50\n",
       "433      Noble     2.100000           105        50\n",
       "275     Mahrez     2.058824           175        85\n",
       "460   Moutinho     2.054545           113        55"
      ]
     },
     "execution_count": 100,
     "metadata": {},
     "output_type": "execute_result"
    }
   ],
   "source": [
    "mid[['web_name','price_ratio','total_points','now_cost']].head(10)"
   ]
  },
  {
   "cell_type": "code",
   "execution_count": 101,
   "metadata": {
    "ExecuteTime": {
     "end_time": "2020-08-23T14:27:13.017334Z",
     "start_time": "2020-08-23T14:27:13.007288Z"
    }
   },
   "outputs": [
    {
     "data": {
      "text/html": [
       "<div>\n",
       "<style scoped>\n",
       "    .dataframe tbody tr th:only-of-type {\n",
       "        vertical-align: middle;\n",
       "    }\n",
       "\n",
       "    .dataframe tbody tr th {\n",
       "        vertical-align: top;\n",
       "    }\n",
       "\n",
       "    .dataframe thead th {\n",
       "        text-align: right;\n",
       "    }\n",
       "</style>\n",
       "<table border=\"1\" class=\"dataframe\">\n",
       "  <thead>\n",
       "    <tr style=\"text-align: right;\">\n",
       "      <th></th>\n",
       "      <th>web_name</th>\n",
       "      <th>price_ratio</th>\n",
       "      <th>total_points</th>\n",
       "      <th>now_cost</th>\n",
       "    </tr>\n",
       "  </thead>\n",
       "  <tbody>\n",
       "    <tr>\n",
       "      <th>369</th>\n",
       "      <td>Ings</td>\n",
       "      <td>2.329412</td>\n",
       "      <td>198</td>\n",
       "      <td>85</td>\n",
       "    </tr>\n",
       "    <tr>\n",
       "      <th>466</th>\n",
       "      <td>Jiménez</td>\n",
       "      <td>2.282353</td>\n",
       "      <td>194</td>\n",
       "      <td>85</td>\n",
       "    </tr>\n",
       "    <tr>\n",
       "      <th>303</th>\n",
       "      <td>Martial</td>\n",
       "      <td>2.222222</td>\n",
       "      <td>200</td>\n",
       "      <td>90</td>\n",
       "    </tr>\n",
       "    <tr>\n",
       "      <th>140</th>\n",
       "      <td>Ayew</td>\n",
       "      <td>2.200000</td>\n",
       "      <td>132</td>\n",
       "      <td>60</td>\n",
       "    </tr>\n",
       "    <tr>\n",
       "      <th>201</th>\n",
       "      <td>Vardy</td>\n",
       "      <td>2.100000</td>\n",
       "      <td>210</td>\n",
       "      <td>100</td>\n",
       "    </tr>\n",
       "    <tr>\n",
       "      <th>91</th>\n",
       "      <td>Wood</td>\n",
       "      <td>2.092308</td>\n",
       "      <td>136</td>\n",
       "      <td>65</td>\n",
       "    </tr>\n",
       "    <tr>\n",
       "      <th>166</th>\n",
       "      <td>Richarlison</td>\n",
       "      <td>2.062500</td>\n",
       "      <td>165</td>\n",
       "      <td>80</td>\n",
       "    </tr>\n",
       "    <tr>\n",
       "      <th>118</th>\n",
       "      <td>Abraham</td>\n",
       "      <td>2.040000</td>\n",
       "      <td>153</td>\n",
       "      <td>75</td>\n",
       "    </tr>\n",
       "    <tr>\n",
       "      <th>68</th>\n",
       "      <td>Maupay</td>\n",
       "      <td>2.015385</td>\n",
       "      <td>131</td>\n",
       "      <td>65</td>\n",
       "    </tr>\n",
       "    <tr>\n",
       "      <th>164</th>\n",
       "      <td>Calvert-Lewin</td>\n",
       "      <td>1.800000</td>\n",
       "      <td>126</td>\n",
       "      <td>70</td>\n",
       "    </tr>\n",
       "  </tbody>\n",
       "</table>\n",
       "</div>"
      ],
      "text/plain": [
       "          web_name  price_ratio  total_points  now_cost\n",
       "369           Ings     2.329412           198        85\n",
       "466        Jiménez     2.282353           194        85\n",
       "303        Martial     2.222222           200        90\n",
       "140           Ayew     2.200000           132        60\n",
       "201          Vardy     2.100000           210       100\n",
       "91            Wood     2.092308           136        65\n",
       "166    Richarlison     2.062500           165        80\n",
       "118        Abraham     2.040000           153        75\n",
       "68          Maupay     2.015385           131        65\n",
       "164  Calvert-Lewin     1.800000           126        70"
      ]
     },
     "execution_count": 101,
     "metadata": {},
     "output_type": "execute_result"
    }
   ],
   "source": [
    "fd[['web_name','price_ratio','total_points','now_cost']].head(10)"
   ]
  },
  {
   "cell_type": "code",
   "execution_count": 102,
   "metadata": {
    "ExecuteTime": {
     "end_time": "2020-08-23T14:27:14.078641Z",
     "start_time": "2020-08-23T14:27:14.075349Z"
    }
   },
   "outputs": [],
   "source": [
    "money_for_non_bench = 1000-40-40-45-50"
   ]
  },
  {
   "cell_type": "code",
   "execution_count": 103,
   "metadata": {
    "ExecuteTime": {
     "end_time": "2020-08-23T14:27:15.274570Z",
     "start_time": "2020-08-23T14:27:15.270571Z"
    }
   },
   "outputs": [
    {
     "data": {
      "text/plain": [
       "825"
      ]
     },
     "execution_count": 103,
     "metadata": {},
     "output_type": "execute_result"
    }
   ],
   "source": [
    "money_for_non_bench"
   ]
  },
  {
   "cell_type": "code",
   "execution_count": 104,
   "metadata": {
    "ExecuteTime": {
     "end_time": "2020-08-23T14:27:16.485257Z",
     "start_time": "2020-08-23T14:27:16.479068Z"
    }
   },
   "outputs": [],
   "source": [
    "# maximise this formula\n",
    "# g + f1 + f2 + m1 + m2 + m3 + m4 + d1 + d2 + d3 + d4 = total points\n",
    "\n",
    "# with this constraint\n",
    "# g + f1 + f2 + m1 + m2 + m3 + m4 + d1 + d2 + d3 + d4 < 825 cost"
   ]
  },
  {
   "cell_type": "code",
   "execution_count": 112,
   "metadata": {
    "ExecuteTime": {
     "end_time": "2020-08-23T14:28:48.008359Z",
     "start_time": "2020-08-23T14:28:48.000974Z"
    }
   },
   "outputs": [],
   "source": [
    "def team_points_and_cost(g1,d1,d2,d3,d4,m1,m2,m3,m4,f1,f2):\n",
    "    team_points = gk.loc[g1].total_points + df.loc[d1].total_points + df.loc[d2].total_points + \\\n",
    "                    df.loc[d3].total_points + df.loc[d4].total_points + mid.loc[m1].total_points + \\\n",
    "                    mid.loc[m2].total_points + mid.loc[m3].total_points + mid.loc[m4].total_points + \\\n",
    "                    fd.loc[f1].total_points + fd.loc[f2].total_points\n",
    "    team_cost = gk.loc[g1].now_cost + df.loc[d1].now_cost + df.loc[d2].now_cost + \\\n",
    "                    df.loc[d3].now_cost + df.loc[d4].now_cost + mid.loc[m1].now_cost + \\\n",
    "                    mid.loc[m2].now_cost + mid.loc[m3].now_cost + mid.loc[m4].now_cost + \\\n",
    "                    fd.loc[f1].now_cost + fd.loc[f2].now_cost              \n",
    "    return team_points, team_cost"
   ]
  },
  {
   "cell_type": "code",
   "execution_count": 113,
   "metadata": {
    "ExecuteTime": {
     "end_time": "2020-08-23T14:28:49.248680Z",
     "start_time": "2020-08-23T14:28:49.241592Z"
    }
   },
   "outputs": [
    {
     "data": {
      "text/plain": [
       "144"
      ]
     },
     "execution_count": 113,
     "metadata": {},
     "output_type": "execute_result"
    }
   ],
   "source": [
    "mid.loc[356].total_points"
   ]
  },
  {
   "cell_type": "code",
   "execution_count": 122,
   "metadata": {
    "ExecuteTime": {
     "end_time": "2020-08-23T14:43:29.487630Z",
     "start_time": "2020-08-23T14:43:29.482083Z"
    }
   },
   "outputs": [
    {
     "data": {
      "text/plain": [
       "Int64Index([356, 272, 89, 37, 244, 27, 454, 433, 275], dtype='int64')"
      ]
     },
     "execution_count": 122,
     "metadata": {},
     "output_type": "execute_result"
    }
   ],
   "source": [
    "mid.index[:9]"
   ]
  },
  {
   "cell_type": "code",
   "execution_count": 114,
   "metadata": {
    "ExecuteTime": {
     "end_time": "2020-08-23T14:28:50.345963Z",
     "start_time": "2020-08-23T14:28:50.334602Z"
    }
   },
   "outputs": [
    {
     "data": {
      "text/plain": [
       "(1912, 770)"
      ]
     },
     "execution_count": 114,
     "metadata": {},
     "output_type": "execute_result"
    }
   ],
   "source": [
    "team_points_and_cost(96,259,463,250,354,356,272,89,37,369,466)"
   ]
  },
  {
   "cell_type": "code",
   "execution_count": 140,
   "metadata": {
    "ExecuteTime": {
     "end_time": "2020-08-23T22:22:29.236891Z",
     "start_time": "2020-08-23T14:56:28.966725Z"
    }
   },
   "outputs": [
    {
     "name": "stdout",
     "output_type": "stream",
     "text": [
      "0 def1-------\n",
      "0 def2\n",
      "New_best_team= [[96, 393, 463, 250, 354, 356, 272, 89, 37, 369, 466], 1826, 750]\n",
      "New_best_team= [[96, 393, 463, 250, 354, 356, 272, 89, 37, 369, 303], 1832, 755]\n",
      "New_best_team= [[96, 393, 463, 250, 354, 356, 272, 89, 37, 369, 201], 1842, 765]\n",
      "New_best_team= [[96, 393, 463, 250, 354, 356, 272, 89, 37, 303, 201], 1844, 770]\n",
      "New_best_team= [[96, 393, 463, 250, 354, 356, 272, 89, 27, 369, 466], 1845, 760]\n",
      "New_best_team= [[96, 393, 463, 250, 354, 356, 272, 89, 27, 369, 303], 1851, 765]\n",
      "New_best_team= [[96, 393, 463, 250, 354, 356, 272, 89, 27, 369, 201], 1861, 775]\n",
      "New_best_team= [[96, 393, 463, 250, 354, 356, 272, 89, 27, 303, 201], 1863, 780]\n",
      "New_best_team= [[96, 393, 463, 250, 354, 356, 272, 89, 275, 369, 201], 1868, 780]\n",
      "New_best_team= [[96, 393, 463, 250, 354, 356, 272, 89, 275, 303, 201], 1870, 785]\n",
      "New_best_team= [[96, 393, 463, 250, 354, 356, 272, 37, 27, 369, 466], 1876, 775]\n",
      "New_best_team= [[96, 393, 463, 250, 354, 356, 272, 37, 27, 369, 303], 1882, 780]\n",
      "New_best_team= [[96, 393, 463, 250, 354, 356, 272, 37, 27, 369, 201], 1892, 790]\n",
      "New_best_team= [[96, 393, 463, 250, 354, 356, 272, 37, 27, 303, 201], 1894, 795]\n",
      "New_best_team= [[96, 393, 463, 250, 354, 356, 272, 37, 275, 369, 201], 1899, 795]\n",
      "New_best_team= [[96, 393, 463, 250, 354, 356, 272, 37, 275, 303, 201], 1901, 800]\n",
      "New_best_team= [[96, 393, 463, 250, 354, 356, 272, 27, 275, 369, 466], 1902, 790]\n",
      "New_best_team= [[96, 393, 463, 250, 354, 356, 272, 27, 275, 369, 303], 1908, 795]\n",
      "New_best_team= [[96, 393, 463, 250, 354, 356, 272, 27, 275, 369, 201], 1918, 805]\n",
      "New_best_team= [[96, 393, 463, 250, 354, 356, 272, 27, 275, 303, 201], 1920, 810]\n",
      "New_best_team= [[96, 393, 463, 250, 354, 272, 37, 27, 275, 369, 201], 1923, 820]\n",
      "New_best_team= [[96, 393, 463, 250, 81, 356, 272, 27, 275, 369, 201], 1928, 810]\n",
      "New_best_team= [[96, 393, 463, 250, 81, 356, 272, 27, 275, 303, 201], 1930, 815]\n",
      "New_best_team= [[96, 393, 463, 250, 255, 356, 272, 37, 27, 369, 201], 1940, 810]\n",
      "New_best_team= [[96, 393, 463, 250, 255, 356, 272, 37, 27, 303, 201], 1942, 815]\n",
      "New_best_team= [[96, 393, 463, 250, 255, 356, 272, 37, 275, 369, 201], 1947, 815]\n",
      "New_best_team= [[96, 393, 463, 250, 255, 356, 272, 37, 275, 303, 201], 1949, 820]\n",
      "New_best_team= [[96, 393, 463, 250, 255, 356, 272, 27, 275, 369, 466], 1950, 810]\n",
      "New_best_team= [[96, 393, 463, 250, 255, 356, 272, 27, 275, 369, 303], 1956, 815]\n",
      "0 def2\n",
      "0 def2\n",
      "0 def2\n",
      "0 def2\n",
      "0 def2\n",
      "1 def1-------\n",
      "1 def2\n",
      "1 def2\n",
      "1 def2\n",
      "1 def2\n",
      "1 def2\n",
      "2 def1-------\n",
      "2 def2\n",
      "2 def2\n",
      "2 def2\n",
      "2 def2\n",
      "3 def1-------\n",
      "3 def2\n",
      "3 def2\n",
      "3 def2\n",
      "4 def1-------\n",
      "4 def2\n",
      "4 def2\n",
      "5 def1-------\n",
      "5 def2\n",
      "0 def1-------\n",
      "0 def2\n",
      "0 def2\n",
      "0 def2\n",
      "0 def2\n",
      "0 def2\n",
      "0 def2\n",
      "1 def1-------\n",
      "1 def2\n",
      "1 def2\n",
      "1 def2\n",
      "1 def2\n",
      "1 def2\n",
      "2 def1-------\n",
      "2 def2\n",
      "2 def2\n",
      "2 def2\n",
      "2 def2\n",
      "3 def1-------\n",
      "3 def2\n",
      "3 def2\n",
      "3 def2\n",
      "4 def1-------\n",
      "4 def2\n",
      "4 def2\n",
      "5 def1-------\n",
      "5 def2\n",
      "0 def1-------\n",
      "0 def2\n",
      "0 def2\n",
      "0 def2\n",
      "0 def2\n",
      "0 def2\n",
      "0 def2\n",
      "1 def1-------\n",
      "1 def2\n",
      "1 def2\n",
      "1 def2\n",
      "1 def2\n",
      "1 def2\n",
      "2 def1-------\n",
      "2 def2\n",
      "2 def2\n",
      "2 def2\n",
      "2 def2\n",
      "3 def1-------\n",
      "3 def2\n",
      "3 def2\n",
      "3 def2\n",
      "4 def1-------\n",
      "4 def2\n",
      "4 def2\n",
      "5 def1-------\n",
      "5 def2\n",
      "0 def1-------\n",
      "0 def2\n",
      "0 def2\n",
      "0 def2\n",
      "0 def2\n",
      "0 def2\n",
      "0 def2\n",
      "1 def1-------\n",
      "1 def2\n",
      "1 def2\n",
      "1 def2\n",
      "1 def2\n",
      "1 def2\n",
      "2 def1-------\n",
      "2 def2\n",
      "2 def2\n",
      "2 def2\n",
      "2 def2\n",
      "3 def1-------\n",
      "3 def2\n",
      "3 def2\n",
      "3 def2\n",
      "4 def1-------\n",
      "4 def2\n",
      "4 def2\n",
      "5 def1-------\n",
      "5 def2\n",
      "0 def1-------\n",
      "0 def2\n",
      "0 def2\n",
      "0 def2\n",
      "0 def2\n",
      "0 def2\n",
      "0 def2\n",
      "1 def1-------\n",
      "1 def2\n",
      "1 def2\n",
      "1 def2\n",
      "1 def2\n",
      "1 def2\n",
      "2 def1-------\n",
      "2 def2\n",
      "2 def2\n",
      "2 def2\n",
      "2 def2\n",
      "3 def1-------\n",
      "3 def2\n",
      "3 def2\n",
      "3 def2\n",
      "4 def1-------\n",
      "4 def2\n",
      "4 def2\n",
      "5 def1-------\n",
      "5 def2\n",
      "0 def1-------\n",
      "0 def2\n",
      "0 def2\n",
      "0 def2\n",
      "0 def2\n",
      "0 def2\n",
      "0 def2\n",
      "1 def1-------\n",
      "1 def2\n",
      "1 def2\n",
      "1 def2\n",
      "1 def2\n",
      "1 def2\n",
      "2 def1-------\n",
      "2 def2\n",
      "2 def2\n",
      "2 def2\n",
      "2 def2\n",
      "3 def1-------\n",
      "3 def2\n",
      "3 def2\n",
      "3 def2\n",
      "4 def1-------\n",
      "4 def2\n",
      "4 def2\n",
      "5 def1-------\n",
      "5 def2\n"
     ]
    }
   ],
   "source": [
    "best_team={}\n",
    "best_points = 0\n",
    "cost_max = 825\n",
    "for g in gk.index[:6]:\n",
    "    for n, d1 in enumerate(df.index[:6]):\n",
    "        print(n,\"def1-------\")\n",
    "        for n2, d2 in enumerate(df.index[n+1:7]):\n",
    "            print(n,\"def2\")\n",
    "            for n3, d3 in enumerate(df.index[n+n2+2:8]):\n",
    "                for d4 in df.index[n+n2+n3+3:9]:\n",
    "                    for n4, m1 in enumerate(mid.index[:6]):\n",
    "                        for n5, m2 in enumerate(mid.index[n4+1:7]):\n",
    "                            for n6, m3 in enumerate(mid.index[n4+n5+2:8]):\n",
    "                                for m4 in mid.index[n4+n5+n6+3:9]:\n",
    "                                    for n7, f1 in enumerate(fd.index[:6]):\n",
    "                                        for f2 in fd.index[n7+1:7]:\n",
    "                                                p, c = team_points_and_cost(g,d,d2,d3,d4,m1,m2,m3,m4,f1,f2)\n",
    "                                                if p > best_points and c < cost_max:\n",
    "                                                    best_points = p\n",
    "                                                    best_team['best'] = [[g,d,d2,d3,d4,m1,m2,m3,m4,f1,f2],p,c]\n",
    "                                                    print(\"New_best_team=\", [[g,d,d2,d3,d4,m1,m2,m3,m4,f1,f2],p,c])"
   ]
  },
  {
   "cell_type": "code",
   "execution_count": 141,
   "metadata": {
    "ExecuteTime": {
     "end_time": "2020-08-24T07:17:01.455847Z",
     "start_time": "2020-08-24T07:17:01.414014Z"
    }
   },
   "outputs": [
    {
     "data": {
      "text/plain": [
       "{'best': [[96, 393, 463, 250, 255, 356, 272, 27, 275, 369, 303], 1956, 815]}"
      ]
     },
     "execution_count": 141,
     "metadata": {},
     "output_type": "execute_result"
    }
   ],
   "source": [
    "best_team"
   ]
  },
  {
   "cell_type": "code",
   "execution_count": 138,
   "metadata": {
    "ExecuteTime": {
     "end_time": "2020-08-23T14:55:23.137530Z",
     "start_time": "2020-08-23T14:55:23.131220Z"
    }
   },
   "outputs": [
    {
     "name": "stdout",
     "output_type": "stream",
     "text": [
      "0 1 2\n",
      "0 1 3\n",
      "0 1 4\n",
      "0 1 5\n",
      "0 2 3\n",
      "0 2 4\n",
      "0 2 5\n",
      "0 3 4\n",
      "0 3 5\n",
      "0 4 5\n",
      "1 2 3\n",
      "1 2 4\n",
      "1 2 5\n",
      "1 3 4\n",
      "1 3 5\n",
      "1 4 5\n",
      "2 3 4\n",
      "2 3 5\n",
      "2 4 5\n",
      "3 4 5\n"
     ]
    }
   ],
   "source": [
    "for n, i in enumerate(range(6)):\n",
    "    for n2, j in enumerate(range(n+1,6)):\n",
    "        for k in range (n+n2+2,6):\n",
    "            print(i,j,k)"
   ]
  },
  {
   "cell_type": "code",
   "execution_count": 71,
   "metadata": {
    "ExecuteTime": {
     "end_time": "2020-08-23T14:00:28.902293Z",
     "start_time": "2020-08-23T14:00:28.896158Z"
    }
   },
   "outputs": [
    {
     "data": {
      "text/plain": [
       "255239184"
      ]
     },
     "execution_count": 71,
     "metadata": {},
     "output_type": "execute_result"
    }
   ],
   "source": []
  },
  {
   "cell_type": "code",
   "execution_count": null,
   "metadata": {},
   "outputs": [],
   "source": []
  }
 ],
 "metadata": {
  "kernelspec": {
   "display_name": "main_python_env",
   "language": "python",
   "name": "main_env"
  },
  "language_info": {
   "codemirror_mode": {
    "name": "ipython",
    "version": 3
   },
   "file_extension": ".py",
   "mimetype": "text/x-python",
   "name": "python",
   "nbconvert_exporter": "python",
   "pygments_lexer": "ipython3",
   "version": "3.8.2"
  },
  "toc": {
   "base_numbering": 1,
   "nav_menu": {},
   "number_sections": true,
   "sideBar": true,
   "skip_h1_title": false,
   "title_cell": "Table of Contents",
   "title_sidebar": "Contents",
   "toc_cell": false,
   "toc_position": {},
   "toc_section_display": true,
   "toc_window_display": false
  },
  "varInspector": {
   "cols": {
    "lenName": 16,
    "lenType": 16,
    "lenVar": 40
   },
   "kernels_config": {
    "python": {
     "delete_cmd_postfix": "",
     "delete_cmd_prefix": "del ",
     "library": "var_list.py",
     "varRefreshCmd": "print(var_dic_list())"
    },
    "r": {
     "delete_cmd_postfix": ") ",
     "delete_cmd_prefix": "rm(",
     "library": "var_list.r",
     "varRefreshCmd": "cat(var_dic_list()) "
    }
   },
   "types_to_exclude": [
    "module",
    "function",
    "builtin_function_or_method",
    "instance",
    "_Feature"
   ],
   "window_display": false
  }
 },
 "nbformat": 4,
 "nbformat_minor": 4
}
