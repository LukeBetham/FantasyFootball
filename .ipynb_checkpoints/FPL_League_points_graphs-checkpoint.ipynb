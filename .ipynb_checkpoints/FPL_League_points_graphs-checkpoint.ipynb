{
 "cells": [
  {
   "cell_type": "code",
   "execution_count": 91,
   "metadata": {
    "ExecuteTime": {
     "end_time": "2020-12-29T23:09:36.208708Z",
     "start_time": "2020-12-29T23:09:21.851208Z"
    }
   },
   "outputs": [],
   "source": [
    "import requests\n",
    "import pandas as pd\n",
    "import numpy as np\n",
    "\n",
    "import seaborn as sns\n",
    "import matplotlib.pyplot as plt\n",
    "\n",
    "%matplotlib inline\n",
    "%config InlineBackend.figure_format='retina'\n",
    "\n",
    "sns.set_style(\"darkgrid\")"
   ]
  },
  {
   "cell_type": "code",
   "execution_count": 92,
   "metadata": {},
   "outputs": [],
   "source": [
    "import datapane as dp"
   ]
  },
  {
   "cell_type": "code",
   "execution_count": null,
   "metadata": {
    "ExecuteTime": {
     "end_time": "2020-12-29T23:09:37.513966Z",
     "start_time": "2020-12-29T23:09:36.225495Z"
    }
   },
   "outputs": [],
   "source": [
    "#game data\n",
    "url = 'https://fantasy.premierleague.com/api/bootstrap-static/'\n",
    "\n",
    "r = requests.get(url)\n",
    "\n",
    "json_data = r.json()\n",
    "\n",
    "elements_df = pd.DataFrame(json_data['elements'])\n",
    "elements_types_df = pd.DataFrame(json_data['element_types'])\n",
    "teams_df = pd.DataFrame(json_data['teams'])"
   ]
  },
  {
   "cell_type": "code",
   "execution_count": null,
   "metadata": {
    "ExecuteTime": {
     "end_time": "2020-12-29T11:34:41.283751Z",
     "start_time": "2020-12-29T11:34:41.277649Z"
    }
   },
   "outputs": [],
   "source": [
    "json_data.keys()"
   ]
  },
  {
   "cell_type": "code",
   "execution_count": null,
   "metadata": {
    "ExecuteTime": {
     "end_time": "2020-12-29T11:34:41.302268Z",
     "start_time": "2020-12-29T11:34:41.286353Z"
    }
   },
   "outputs": [],
   "source": [
    "json_data['total_players']"
   ]
  },
  {
   "cell_type": "code",
   "execution_count": null,
   "metadata": {
    "ExecuteTime": {
     "end_time": "2020-12-29T11:34:41.471515Z",
     "start_time": "2020-12-29T11:34:41.304628Z"
    }
   },
   "outputs": [],
   "source": [
    "url = 'https://fantasy.premierleague.com/api/leagues-classic/872868/standings/'\n",
    "\n",
    "r = requests.get(url)\n",
    "\n",
    "league = r.json()\n",
    "\n",
    "df_league = pd.DataFrame(league['standings']['results'])\n",
    "\n",
    "df_league"
   ]
  },
  {
   "cell_type": "code",
   "execution_count": null,
   "metadata": {
    "ExecuteTime": {
     "end_time": "2020-12-29T11:34:41.623816Z",
     "start_time": "2020-12-29T11:34:41.473436Z"
    }
   },
   "outputs": [],
   "source": [
    "url = 'https://fantasy.premierleague.com/api/entry/4914782/history/'\n",
    "r = requests.get(url)\n",
    "json = r.json()\n",
    "json.keys()"
   ]
  },
  {
   "cell_type": "code",
   "execution_count": null,
   "metadata": {
    "ExecuteTime": {
     "end_time": "2020-12-29T11:34:41.636422Z",
     "start_time": "2020-12-29T11:34:41.626234Z"
    }
   },
   "outputs": [],
   "source": [
    "pd.DataFrame(json['past'])"
   ]
  },
  {
   "cell_type": "code",
   "execution_count": null,
   "metadata": {
    "ExecuteTime": {
     "end_time": "2020-12-29T11:34:43.480874Z",
     "start_time": "2020-12-29T11:34:41.641119Z"
    }
   },
   "outputs": [],
   "source": [
    "df_all = pd.DataFrame(columns=['event', 'points', 'total_points', 'rank', 'rank_sort', 'overall_rank',\n",
    "       'bank', 'value', 'event_transfers', 'event_transfers_cost',\n",
    "       'points_on_bench', 'player','team_name'])\n",
    "# get all players data from a league\n",
    "for i, val in enumerate(df_league.entry):\n",
    "    url = 'https://fantasy.premierleague.com/api/entry/{}/history/'.format(val)\n",
    "\n",
    "    r = requests.get(url)\n",
    "\n",
    "    json = r.json()\n",
    "\n",
    "    df_temp=pd.DataFrame(json['current'])\n",
    "    print(val,df_league.iloc[i,2],df_league.iloc[i,8])\n",
    "    df_temp['player'] = df_league.iloc[i,2]\n",
    "    df_temp['team_name'] = df_league.iloc[i,8]\n",
    "    df_all= pd.concat([df_all,df_temp])\n",
    "    "
   ]
  },
  {
   "cell_type": "code",
   "execution_count": null,
   "metadata": {
    "ExecuteTime": {
     "end_time": "2020-12-29T11:34:43.531244Z",
     "start_time": "2020-12-29T11:34:43.492915Z"
    }
   },
   "outputs": [],
   "source": [
    "# cleaning\n",
    "for col in df_all:\n",
    "    try:\n",
    "        df_all[col]=df_all[col].astype(float)\n",
    "    except:\n",
    "        pass\n",
    "    \n",
    "df_all['player'] = df_all['player'].apply(lambda x: \"Alex Andreou\" if x == \"A A\" else x)\n",
    "df_all['player'] = df_all['player'].apply(lambda x: \"Turnbull\" if x == \"Henry Turnbull\" else x)\n",
    "df_all['player'] = df_all['player'].apply(lambda x: \"Elks\" if x == \"Henry Elks\" else x)\n",
    "df_all['player'] = df_all['player'].apply(lambda x: x.split()[0])"
   ]
  },
  {
   "cell_type": "code",
   "execution_count": null,
   "metadata": {
    "ExecuteTime": {
     "end_time": "2020-12-29T11:34:44.293237Z",
     "start_time": "2020-12-29T11:34:43.534210Z"
    }
   },
   "outputs": [],
   "source": [
    "# Total points on Bench\n",
    "df_temp = df_all.groupby('player').sum()[['points_on_bench']].sort_values('points_on_bench')\n",
    "plt.figure(figsize=(12,8))\n",
    "bench_chart=sns.barplot(y=df_temp.points_on_bench,x=df_temp.index)\n",
    "plt.title(\"Total Points on Bench\")\n",
    "plt.xticks(rotation=30,ha=\"right\")\n",
    "for p in bench_chart.patches:\n",
    "    bench_chart.annotate(round(p.get_height(),2), (p.get_x() + p.get_width() / 2., p.get_height()),\n",
    "     ha='center', va='center', fontsize=10, color='black', xytext=(0, 5),\n",
    "     textcoords='offset points')\n",
    "plt.show()"
   ]
  },
  {
   "cell_type": "code",
   "execution_count": null,
   "metadata": {
    "ExecuteTime": {
     "end_time": "2020-12-29T11:34:44.834895Z",
     "start_time": "2020-12-29T11:34:44.295923Z"
    }
   },
   "outputs": [],
   "source": [
    "# Extra Transfers cost\n",
    "df_temp = df_all.groupby('player').sum()[['event_transfers_cost']].sort_values('event_transfers_cost')\n",
    "plt.figure(figsize=(12,8))\n",
    "x_transfers = sns.barplot(y=df_temp.event_transfers_cost,x=df_temp.index,palette='Reds')\n",
    "plt.title(\"Total Points spent on Extra Transfers\")\n",
    "plt.xticks(rotation=30,ha=\"right\")\n",
    "for p in x_transfers.patches:\n",
    "    x_transfers.annotate(round(p.get_height(),2), (p.get_x() + p.get_width() / 2., p.get_height()),\n",
    "     ha='center', va='center', fontsize=10, color='black', xytext=(0, 5),\n",
    "     textcoords='offset points')\n",
    "plt.show()"
   ]
  },
  {
   "cell_type": "code",
   "execution_count": null,
   "metadata": {
    "ExecuteTime": {
     "end_time": "2020-12-29T11:34:45.392148Z",
     "start_time": "2020-12-29T11:34:44.837368Z"
    }
   },
   "outputs": [],
   "source": [
    "# Max points in a week\n",
    "df_temp = df_all.groupby('player').max()[['points']].sort_values('points')\n",
    "plt.figure(figsize=(12,8))\n",
    "max_week = sns.barplot(y=df_temp.points,x=df_temp.index,palette='Blues_d')\n",
    "plt.title(\"Max points in a Week\")\n",
    "plt.xticks(rotation=30,ha=\"right\")\n",
    "for p in max_week.patches:\n",
    "    max_week.annotate(round(p.get_height(),2), (p.get_x() + p.get_width() / 2., p.get_height()),\n",
    "     ha='center', va='center', fontsize=10, color='black', xytext=(0, 5),\n",
    "     textcoords='offset points')\n",
    "plt.ylim(65,130)\n",
    "plt.show()"
   ]
  },
  {
   "cell_type": "code",
   "execution_count": null,
   "metadata": {
    "ExecuteTime": {
     "end_time": "2020-12-29T11:34:45.878734Z",
     "start_time": "2020-12-29T11:34:45.395556Z"
    }
   },
   "outputs": [],
   "source": [
    "# Std dev points \n",
    "df_temp = df_all.groupby('player').std()[['points']].sort_values('points')\n",
    "plt.figure(figsize=(12,8))\n",
    "consistency=sns.barplot(y=df_temp.points,x=df_temp.index,palette=\"GnBu_d\")\n",
    "plt.title(\"Consistency - Standard Deviation of points\")\n",
    "plt.xticks(rotation=30,ha=\"right\")\n",
    "for p in consistency.patches:\n",
    "    consistency.annotate(round(p.get_height(),2), (p.get_x() + p.get_width() / 2., p.get_height()),\n",
    "     ha='center', va='center', fontsize=10, color='black', xytext=(0, 5),\n",
    "     textcoords='offset points')\n",
    "plt.show()"
   ]
  },
  {
   "cell_type": "code",
   "execution_count": null,
   "metadata": {
    "ExecuteTime": {
     "end_time": "2020-12-29T11:34:46.392148Z",
     "start_time": "2020-12-29T11:34:45.881446Z"
    }
   },
   "outputs": [],
   "source": [
    "# Best UK Rank Percentile in a gameweek\n",
    "df_temp = df_all.groupby('player').min()[['rank']].sort_values('rank')/int(json_data['total_players'])*100\n",
    "plt.figure(figsize=(12,8))\n",
    "chart=sns.barplot(y=df_temp['rank'],x=df_temp.index)\n",
    "plt.title(\"Best All Players Rank Percentile - in a gameweek\")\n",
    "plt.xticks(rotation=30,ha=\"right\")\n",
    "for p in chart.patches:\n",
    "    chart.annotate(round(p.get_height(),2), (p.get_x() + p.get_width() / 2., p.get_height()),\n",
    "     ha='center', va='center', fontsize=10, color='black', xytext=(0, 5),\n",
    "     textcoords='offset points')\n",
    "plt.show()"
   ]
  },
  {
   "cell_type": "code",
   "execution_count": null,
   "metadata": {
    "ExecuteTime": {
     "end_time": "2020-12-29T11:34:46.956611Z",
     "start_time": "2020-12-29T11:34:46.395000Z"
    }
   },
   "outputs": [],
   "source": [
    "# Worst UK Rank Percentile in a gameweek\n",
    "df_temp = df_all.groupby('player').max()[['rank']].sort_values('rank')/int(json_data['total_players'])*100\n",
    "plt.figure(figsize=(12,8))\n",
    "chart = sns.barplot(y=df_temp['rank'],x=df_temp.index)\n",
    "plt.title(\"Worst All Players Rank Percentile - in a gameweek\")\n",
    "plt.xticks(rotation=30,ha=\"right\")\n",
    "for p in chart.patches:\n",
    "    chart.annotate(round(p.get_height(),2), (p.get_x() + p.get_width() / 2., p.get_height()),\n",
    "     ha='center', va='center', fontsize=10, color='black', xytext=(0, 5),\n",
    "     textcoords='offset points')\n",
    "plt.show()"
   ]
  },
  {
   "cell_type": "code",
   "execution_count": null,
   "metadata": {
    "ExecuteTime": {
     "end_time": "2020-12-29T11:34:47.450298Z",
     "start_time": "2020-12-29T11:34:46.959390Z"
    }
   },
   "outputs": [],
   "source": [
    "# Current all players rank\n",
    "df_temp = df_all[df_all['event']==df_all['event'].max()][['overall_rank','player']].sort_values('overall_rank')\n",
    "df_temp['overall_rank']=df_temp['overall_rank']/int(json_data['total_players'])*100\n",
    "plt.figure(figsize=(12,8))\n",
    "current_percentile = sns.barplot(y=df_temp['overall_rank'],x=df_temp.player, palette = \"RdBu_r\")\n",
    "plt.title(\"Current All Players Rank Percentile - overall\")\n",
    "plt.xticks(rotation=30,ha=\"right\")\n",
    "for p in current_percentile.patches:\n",
    "    current_percentile.annotate(round(p.get_height(),2), (p.get_x() + p.get_width() / 2., p.get_height()),\n",
    "     ha='center', va='center', fontsize=10, color='black', xytext=(0, 5),\n",
    "     textcoords='offset points')\n",
    "plt.show()"
   ]
  },
  {
   "cell_type": "code",
   "execution_count": null,
   "metadata": {
    "ExecuteTime": {
     "end_time": "2020-12-29T11:34:47.941547Z",
     "start_time": "2020-12-29T11:34:47.452077Z"
    }
   },
   "outputs": [],
   "source": [
    "# Best UK Rank Percentile in a gameweek\n",
    "df_temp = df_all.groupby('player').min()[['overall_rank']].sort_values('overall_rank')/int(json_data['total_players'])*100\n",
    "plt.figure(figsize=(12,8))\n",
    "chart = sns.barplot(y=df_temp['overall_rank'],x=df_temp.index)\n",
    "plt.title(\"Best All Players Rank Percentile - overall\")\n",
    "plt.xticks(rotation=30,ha=\"right\")\n",
    "for p in chart.patches:\n",
    "    chart.annotate(round(p.get_height(),2), (p.get_x() + p.get_width() / 2., p.get_height()),\n",
    "     ha='center', va='center', fontsize=10, color='black', xytext=(0, 5),\n",
    "     textcoords='offset points')\n",
    "plt.show()"
   ]
  },
  {
   "cell_type": "code",
   "execution_count": null,
   "metadata": {
    "ExecuteTime": {
     "end_time": "2020-12-29T11:34:48.455989Z",
     "start_time": "2020-12-29T11:34:47.945145Z"
    }
   },
   "outputs": [],
   "source": [
    "# Best UK Rank Percentile in a gameweek\n",
    "df_temp = df_all.groupby('player').max()[['overall_rank']].sort_values('overall_rank')/int(json_data['total_players'])*100\n",
    "plt.figure(figsize=(12,8))\n",
    "chart = sns.barplot(y=df_temp['overall_rank'],x=df_temp.index)\n",
    "plt.title(\"Worst All Players Rank Percentile - overall\")\n",
    "plt.xticks(rotation=30,ha=\"right\")\n",
    "for p in chart.patches:\n",
    "    chart.annotate(round(p.get_height(),2), (p.get_x() + p.get_width() / 2., p.get_height()),\n",
    "     ha='center', va='center', fontsize=10, color='black', xytext=(0, 5),\n",
    "     textcoords='offset points')\n",
    "plt.show()"
   ]
  },
  {
   "cell_type": "code",
   "execution_count": null,
   "metadata": {
    "ExecuteTime": {
     "end_time": "2020-12-29T11:34:48.493627Z",
     "start_time": "2020-12-29T11:34:48.465046Z"
    }
   },
   "outputs": [],
   "source": [
    "df_all = df_all.sort_values(by='event')\n",
    "rank_list = []\n",
    "for e in df_all.event.unique():\n",
    "    df_temp = df_all[df_all.event==e]\n",
    "    rank_list+=df_temp.total_points.rank(method='min',ascending=False).tolist()"
   ]
  },
  {
   "cell_type": "code",
   "execution_count": null,
   "metadata": {
    "ExecuteTime": {
     "end_time": "2020-12-29T11:34:48.519376Z",
     "start_time": "2020-12-29T11:34:48.510496Z"
    }
   },
   "outputs": [],
   "source": [
    "df_all['rankpw']=rank_list"
   ]
  },
  {
   "cell_type": "code",
   "execution_count": null,
   "metadata": {
    "ExecuteTime": {
     "end_time": "2020-12-29T11:34:48.546397Z",
     "start_time": "2020-12-29T11:34:48.527937Z"
    }
   },
   "outputs": [],
   "source": [
    "df_all"
   ]
  },
  {
   "cell_type": "code",
   "execution_count": null,
   "metadata": {
    "ExecuteTime": {
     "end_time": "2020-12-29T11:34:49.361696Z",
     "start_time": "2020-12-29T11:34:48.558081Z"
    }
   },
   "outputs": [],
   "source": [
    "gw = int(df_all.event.max())\n",
    "curr_rank_list = df_all[df_all.event==gw].sort_values(\"total_points\",ascending=False)[\"player\"].tolist()\n",
    "sns.set_style('dark')\n",
    "plt.figure(figsize=(14,10))\n",
    "ranking=sns.lineplot(y=df_all.rankpw,x=df_all.event,hue=df_all.player)\n",
    "for i, name in enumerate(curr_rank_list):\n",
    "    ranking.annotate(name,(gw+0.1,i+1))\n",
    "plt.yticks(range(1,13))\n",
    "plt.xticks(range(1,gw+1))\n",
    "plt.xlim(0.5,gw+3)\n",
    "plt.ylim(12.5,0.5)\n",
    "plt.title(\"Ranking per Week\")\n",
    "plt.xlabel(\"Gameweek\")\n",
    "plt.ylabel(\"Rank\")\n",
    "plt.legend(\"\")\n",
    "plt.show()"
   ]
  },
  {
   "cell_type": "code",
   "execution_count": null,
   "metadata": {
    "ExecuteTime": {
     "end_time": "2020-12-29T11:34:49.928264Z",
     "start_time": "2020-12-29T11:34:49.416284Z"
    }
   },
   "outputs": [],
   "source": [
    "# Current team value\n",
    "df_temp = df_all[df_all['event']==df_all['event'].max()][['value','bank','player']].sort_values('value')\n",
    "# df_temp['']\n",
    "plt.figure(figsize=(12,8))\n",
    "team_value = sns.barplot(y=df_temp['value']/10,x=df_temp.player,palette='PuBuGn_d')\n",
    "plt.title(\"Current Team Value\")\n",
    "plt.xticks(rotation=30,ha=\"right\")\n",
    "for p in team_value.patches:\n",
    "    team_value.annotate(round(p.get_height(),2), (p.get_x() + p.get_width() / 2., p.get_height()),\n",
    "     ha='center', va='center', fontsize=10, color='black', xytext=(0, 5),\n",
    "     textcoords='offset points')\n",
    "plt.ylim(100,108)\n",
    "plt.show()"
   ]
  },
  {
   "cell_type": "markdown",
   "metadata": {},
   "source": [
    "## Looking at ownership"
   ]
  },
  {
   "cell_type": "code",
   "execution_count": null,
   "metadata": {},
   "outputs": [],
   "source": [
    "#Formatting names\n",
    "df_league['player'] = df_league['player_name'].apply(lambda x: \"Alex Andreou\" if x == \"A A\" else x)\n",
    "df_league['player'] = df_league['player'].apply(lambda x: \"Turnbull\" if x == \"Henry Turnbull\" else x)\n",
    "df_league['player'] = df_league['player'].apply(lambda x: \"Elks\" if x == \"Henry Elks\" else x)\n",
    "df_league['player'] = df_league['player'].apply(lambda x: x.split()[0])"
   ]
  },
  {
   "cell_type": "code",
   "execution_count": null,
   "metadata": {},
   "outputs": [],
   "source": [
    "#Looping through and creating a df of the leagues picks\n",
    "for row in df_league.index:\n",
    "    url = \"https://fantasy.premierleague.com/api/entry/{}/event/{}/picks/\".format(df_league.iloc[row,7],gw)\n",
    "    r = requests.get(url)\n",
    "    picks = r.json()\n",
    "    if row == 0:\n",
    "        df_picks = pd.DataFrame(picks['picks'])\n",
    "        df_picks['player'] = df_league.iloc[row,-1]\n",
    "    else:\n",
    "        df_temp = pd.DataFrame(picks['picks'])\n",
    "        df_temp['player'] = df_league.iloc[row,-1]\n",
    "        df_picks = pd.concat([df_picks,df_temp])"
   ]
  },
  {
   "cell_type": "code",
   "execution_count": null,
   "metadata": {},
   "outputs": [],
   "source": [
    "url = 'https://fantasy.premierleague.com/api/bootstrap-static/'\n",
    "r = requests.get(url)\n",
    "json_data = r.json()\n",
    "player_df = pd.DataFrame(json_data['elements'])\n",
    "teams_df = pd.DataFrame(json_data['teams'])\n",
    "player_df.team = player_df.team.map(pd.Series(teams_df.name.values,teams_df.id).to_dict())"
   ]
  },
  {
   "cell_type": "code",
   "execution_count": null,
   "metadata": {},
   "outputs": [],
   "source": [
    "df_picks['web_name'] = df_picks.element.map(pd.Series(player_df.web_name.values,player_df.id).to_dict())\n",
    "df_picks['team']=df_picks.element.map(pd.Series(player_df.team.values,player_df.id).to_dict())"
   ]
  },
  {
   "cell_type": "code",
   "execution_count": null,
   "metadata": {},
   "outputs": [],
   "source": [
    "df_picks.head()"
   ]
  },
  {
   "cell_type": "code",
   "execution_count": null,
   "metadata": {},
   "outputs": [],
   "source": [
    "df_EO = df_picks.groupby([\"web_name\",\"team\"])[['multiplier']].sum()/len(df_league.index)*100\n",
    "df_EO = df_EO.reset_index()\n",
    "df_EO = df_EO[df_EO.multiplier>1/len(df_league.index)*100]\n",
    "df_EO = df_EO.sort_values(by='multiplier',ascending=False)"
   ]
  },
  {
   "cell_type": "code",
   "execution_count": null,
   "metadata": {},
   "outputs": [],
   "source": [
    "plt.figure(figsize=(6,10))\n",
    "EO_plot = sns.barplot(y=df_EO.web_name,x=df_EO.multiplier,hue=df_EO.team,dodge=False,palette='Paired')\n",
    "plt.title(\"Effective Ownership GW-{}\".format(gw))\n",
    "plt.xlabel(\"EO %\")\n",
    "plt.ylabel(\"\")\n",
    "for p in EO_plot.patches:\n",
    "    EO_plot.annotate(round(p.get_width(),2), (p.get_width(),p.get_y()+p.get_height()/1.5),\n",
    "     ha='left', va='center', fontsize=10, color='black', xytext=(0, 5),\n",
    "     textcoords='offset points')\n",
    "plt.show()"
   ]
  },
  {
   "cell_type": "code",
   "execution_count": null,
   "metadata": {},
   "outputs": [],
   "source": [
    "df_picks[df_picks.web_name == \"Salah\"]"
   ]
  },
  {
   "cell_type": "code",
   "execution_count": null,
   "metadata": {},
   "outputs": [],
   "source": [
    "# Cheeky differentials\n",
    "df_diff = df_picks.groupby([\"web_name\"])[['multiplier']].sum()\n",
    "df_diff = df_diff[df_diff.multiplier==1]\n",
    "df_diff = df_diff.reset_index()\n",
    "df_diff['player'] = df_diff.web_name.map(pd.Series(df_picks[df_picks.multiplier!=0].player.values,df_picks[df_picks.multiplier!=0].web_name).to_dict())\n",
    "df_diff.drop('multiplier',inplace=True,axis=1)\n",
    "df_diff.columns = [\"Rogue Choice\", \"Manager\"]\n",
    "df_diff = df_diff.sort_values('Manager')\n",
    "df_diff = df_diff.set_index('Manager')"
   ]
  },
  {
   "cell_type": "code",
   "execution_count": null,
   "metadata": {},
   "outputs": [],
   "source": [
    "df_diff"
   ]
  },
  {
   "cell_type": "code",
   "execution_count": null,
   "metadata": {},
   "outputs": [],
   "source": [
    "player_df"
   ]
  },
  {
   "cell_type": "code",
   "execution_count": null,
   "metadata": {},
   "outputs": [],
   "source": [
    "# Captaining error\n",
    "\n",
    "#LoopThrough league managers\n",
    "    #Loop through gws\n",
    "        #Loop through active players\n",
    "url = \"https://fantasy.premierleague.com/api/entry/1409005/event/28/picks/\"\n",
    "r = requests.get(url)\n",
    "picks = r.json()\n",
    "df_temp3 = pd.DataFrame(picks['picks'])\n",
    "df_temp3\n",
    "# for player in df_temp3.element:\n",
    "# load player history - link to fixtures to find gw and then look back up in player history\n",
    "#compare all multiplier 1 to multiplier 2 - if no multiplier 2 then max\n"
   ]
  },
  {
   "cell_type": "code",
   "execution_count": null,
   "metadata": {},
   "outputs": [],
   "source": [
    "url = \"https://fantasy.premierleague.com/api/element-summary/273/\"\n",
    "r = requests.get(url)\n",
    "json_data = r.json()\n",
    "pd.DataFrame(json_data['history'])"
   ]
  },
  {
   "cell_type": "code",
   "execution_count": null,
   "metadata": {},
   "outputs": [],
   "source": [
    "df_league"
   ]
  },
  {
   "cell_type": "code",
   "execution_count": null,
   "metadata": {},
   "outputs": [],
   "source": [
    "## Publishing to datapane"
   ]
  },
  {
   "cell_type": "code",
   "execution_count": null,
   "metadata": {},
   "outputs": [],
   "source": [
    "dp.login(token=\"091830a120b8c1f1cde36fd23c9e06d4b81bfc6b\")\n",
    "r = dp.Report(\n",
    "    f'### LukeStepsUp FPL League',\n",
    "    f'Graphing the most important league in FPL',\n",
    "    dp.Plot(ranking),\n",
    "    dp.Plot(EO_plot,responsive=False),\n",
    "    '#### Cheeky differentials GW-{}'.format(gw),\n",
    "    dp.Table(df_diff),\n",
    "    dp.Plot(bench_chart),\n",
    "    dp.Plot(x_transfers),\n",
    "    dp.Plot(max_week),\n",
    "    dp.Plot(consistency),\n",
    "    dp.Plot(current_percentile),\n",
    "    dp.Plot(team_value)\n",
    ")"
   ]
  },
  {
   "cell_type": "code",
   "execution_count": null,
   "metadata": {},
   "outputs": [],
   "source": [
    "dp.login(token=\"091830a120b8c1f1cde36fd23c9e06d4b81bfc6b\")\n",
    "data = dp.Report(\n",
    "    f'### LukeStepsUp FPL League - data',\n",
    "    dp.DataTable(df_all)\n",
    ")"
   ]
  },
  {
   "cell_type": "code",
   "execution_count": null,
   "metadata": {},
   "outputs": [],
   "source": [
    "r.publish(name=f'FPL League Rankings', open=True, description=f'')"
   ]
  },
  {
   "cell_type": "code",
   "execution_count": null,
   "metadata": {},
   "outputs": [],
   "source": [
    "data.publish(name=f'LukeStepsUp Data', open=True, description=f'')"
   ]
  },
  {
   "cell_type": "code",
   "execution_count": null,
   "metadata": {
    "ExecuteTime": {
     "end_time": "2020-12-29T11:34:49.409776Z",
     "start_time": "2020-12-29T11:34:49.370546Z"
    }
   },
   "outputs": [],
   "source": [
    "df_all[df_all.event==1].total_points.rank(method='min',ascending=False)"
   ]
  },
  {
   "cell_type": "code",
   "execution_count": null,
   "metadata": {
    "ExecuteTime": {
     "end_time": "2020-12-29T11:34:49.962882Z",
     "start_time": "2020-12-29T11:34:49.930788Z"
    }
   },
   "outputs": [],
   "source": [
    "df_all[df_all['event']==14]"
   ]
  },
  {
   "cell_type": "code",
   "execution_count": null,
   "metadata": {},
   "outputs": [],
   "source": []
  }
 ],
 "metadata": {
  "kernelspec": {
   "display_name": "python38",
   "language": "python",
   "name": "python38"
  },
  "language_info": {
   "codemirror_mode": {
    "name": "ipython",
    "version": 3
   },
   "file_extension": ".py",
   "mimetype": "text/x-python",
   "name": "python",
   "nbconvert_exporter": "python",
   "pygments_lexer": "ipython3",
   "version": "3.8.5"
  },
  "toc": {
   "base_numbering": 1,
   "nav_menu": {},
   "number_sections": true,
   "sideBar": true,
   "skip_h1_title": false,
   "title_cell": "Table of Contents",
   "title_sidebar": "Contents",
   "toc_cell": false,
   "toc_position": {},
   "toc_section_display": true,
   "toc_window_display": false
  },
  "varInspector": {
   "cols": {
    "lenName": 16,
    "lenType": 16,
    "lenVar": 40
   },
   "kernels_config": {
    "python": {
     "delete_cmd_postfix": "",
     "delete_cmd_prefix": "del ",
     "library": "var_list.py",
     "varRefreshCmd": "print(var_dic_list())"
    },
    "r": {
     "delete_cmd_postfix": ") ",
     "delete_cmd_prefix": "rm(",
     "library": "var_list.r",
     "varRefreshCmd": "cat(var_dic_list()) "
    }
   },
   "position": {
    "height": "482px",
    "left": "846px",
    "right": "20px",
    "top": "115px",
    "width": "313px"
   },
   "types_to_exclude": [
    "module",
    "function",
    "builtin_function_or_method",
    "instance",
    "_Feature"
   ],
   "window_display": false
  }
 },
 "nbformat": 4,
 "nbformat_minor": 4
}
